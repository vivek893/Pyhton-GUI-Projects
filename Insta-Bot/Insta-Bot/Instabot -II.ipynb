{
 "cells": [
  {
   "cell_type": "markdown",
   "id": "68ccadb4",
   "metadata": {},
   "source": [
    "# InstaBot - Part II"
   ]
  },
  {
   "cell_type": "code",
   "execution_count": 2,
   "id": "da8897b6",
   "metadata": {},
   "outputs": [],
   "source": [
    "from selenium import webdriver\n",
    "from selenium.webdriver.support import expected_conditions as EC\n",
    "from selenium.webdriver.support.ui import WebDriverWait\n",
    "from selenium.webdriver.common.by import By\n",
    "from selenium.common.exceptions import TimeoutException\n",
    "from bs4 import BeautifulSoup\n",
    "import time\n",
    "import pandas as pd\n",
    "import numpy as np\n",
    "import matplotlib.pyplot as plt\n",
    "%matplotlib inline"
   ]
  },
  {
   "cell_type": "code",
   "execution_count": 3,
   "id": "9017d4be",
   "metadata": {},
   "outputs": [],
   "source": [
    "#opening the browser, change the path as per location of chromedriver in your system\n",
    "from selenium.webdriver.chrome.service import Service\n",
    "service=Service(executable_path=\"F:\\google drive\\data science\\webscraping\\chromedriver-win64\\chromedriver.exe\")\n",
    "options=webdriver.ChromeOptions()\n",
    "driver=webdriver.Chrome(service=service,options=options)"
   ]
  },
  {
   "cell_type": "code",
   "execution_count": 4,
   "id": "f1c9fd33",
   "metadata": {},
   "outputs": [],
   "source": [
    "#Opening Instagram using link\n",
    "driver.get('https://www.instagram.com/')"
   ]
  },
  {
   "cell_type": "code",
   "execution_count": 5,
   "id": "93205c14",
   "metadata": {},
   "outputs": [],
   "source": [
    "# put your user name inplace of sample username and put your password in place of  sample password\n",
    "Username='Sample username'\n",
    "Password='Sample Password'"
   ]
  },
  {
   "cell_type": "code",
   "execution_count": 6,
   "id": "66166425",
   "metadata": {},
   "outputs": [],
   "source": [
    "# intialize wait object using waitDriverWait methods\n",
    "wait=WebDriverWait(driver,10)  # wait for 10 second"
   ]
  },
  {
   "cell_type": "markdown",
   "id": "76877d53",
   "metadata": {},
   "source": [
    "# Login to your Instagram"
   ]
  },
  {
   "cell_type": "code",
   "execution_count": 7,
   "id": "1430f298",
   "metadata": {},
   "outputs": [],
   "source": [
    "\n",
    "def login_insta(Username,Password):\n",
    "    try:\n",
    "        #locating username textbox and sending username\n",
    "        username=driver.find_element('name','username')\n",
    "        username.send_keys(Username)\n",
    "        #locating password box and sending password\n",
    "        password=driver.find_element('name','password')\n",
    "        password.send_keys(Password)\n",
    "        #locating login button \n",
    "        password.submit()\n",
    "        # verify your code\n",
    "        #code=input(\"enter a verification code\")\n",
    "        #verify=driver.find_element('name','verificationCode')\n",
    "        #verify.send_keys(code)\n",
    "        #verify.submit()\n",
    "\n",
    "        #Save Your Login Info? : Not Now\n",
    "        button = wait.until(EC.presence_of_element_located((By.XPATH,'//div[@class=\"_ac8f\"]/div')))\n",
    "        button.click()\n",
    "       # pop_up=driver.find_element('class name','_ac8f')\n",
    "        #pop_up.click()\n",
    "        # turn Off and on notification: off\n",
    "        pop_up1=driver.find_element('class name','_a9_1')\n",
    "        pop_up1.click()\n",
    "        #button1= wait.until(EC.presence_of_element_located((By.XPATH,'//div[@class=\"_a9_1\"]/div')))\n",
    "        #button1.click()\n",
    "        \n",
    "       \n",
    "        \n",
    "    except TimeoutException :\n",
    "        print (\"Something went wrong! Try Again\")\n",
    "        \n",
    "#Username=input(\"enter your username\")\n",
    "#Password=input(\"enter your password\")\n",
    "login_insta(Username,Password)      \n",
    "        "
   ]
  },
  {
   "cell_type": "code",
   "execution_count": 8,
   "id": "df745fa8",
   "metadata": {},
   "outputs": [],
   "source": [
    "##search_open_profile() function is same as part-I. All the functionality is same as before.\n",
    "def search_open_profile(s):\n",
    "    try:\n",
    "        #locatong search box bar and sending text \n",
    "        search_box = wait.until(EC.presence_of_element_located((By.XPATH,'//div[contains(@class,\"xjoudau\")]/input')))\n",
    "        search_box.send_keys(s)\n",
    "        #locating serched result\n",
    "        res = wait.until(EC.presence_of_element_located((By.XPATH,'//div[contains(@class,\"x6s0dn4\")]/div/a')))\n",
    "        res.click()           \n",
    "        time.sleep(2)\n",
    "        #driver.back()\n",
    "        Back=driver.find_element(By.XPATH,'//div[contains(@class,\"x6s0dn4\")]/div/div/span')\n",
    "        Back.click()\n",
    "        \n",
    "    \n",
    "    except TimeoutException :\n",
    "        print('No Search Found!')"
   ]
  },
  {
   "cell_type": "code",
   "execution_count": 10,
   "id": "3a8a33a4",
   "metadata": {},
   "outputs": [],
   "source": [
    "# search profile 'SoDelhi'\n",
    "search_open_profile('SoDelhi')"
   ]
  },
  {
   "cell_type": "markdown",
   "id": "7b762d3f",
   "metadata": {},
   "source": [
    "# Problem 1 : Analyse the habits of bloggers"
   ]
  },
  {
   "cell_type": "markdown",
   "id": "7ba42192",
   "metadata": {},
   "source": [
    "Now your friend has followed a lot of different food bloggers, he needs to analyse the habits of these bloggers.<br>\n",
    "1.From the list of instagram handles you obtained when you searched ‘food’ in previous project. Open the first 10 handles and <br>\n",
    "   find the top 5 which have the highest number of followers<br>\n",
    "2.Now Find the number of posts these handles have done in the previous 3 days.<br>\n",
    "3.Depict this information using a suitable graph.<br>"
   ]
  },
  {
   "cell_type": "markdown",
   "id": "d7d4ba11",
   "metadata": {},
   "source": [
    "1.From the list of instagram handles you obtained when you searched ‘food’ in previous project. Open the first 10 handles and <br> find the top 5 which have the highest number of followers"
   ]
  },
  {
   "cell_type": "code",
   "execution_count": 11,
   "id": "dc5836ff",
   "metadata": {},
   "outputs": [],
   "source": [
    "#First 10 handles from part-1\n",
    "handles_list = ['dilsefoodie','foodtalkindia','foodmaniacinthehouse','food.darzee','yourfoodlab','dilsefoodie_','food',\n",
    "               'foodnetwork','foodinsider','foodiesfeature']\n"
   ]
  },
  {
   "cell_type": "code",
   "execution_count": 12,
   "id": "3d038bb8",
   "metadata": {},
   "outputs": [],
   "source": [
    "#function for getting top 5 handle which have highest number of followers\n",
    "def top_5_handles(lst):\n",
    "    try:\n",
    "        #dct contains username with number of followers\n",
    "        dct = {}\n",
    "        for i in lst :\n",
    "            #This fuction will search a user and open that profile\n",
    "            search_open_profile(i)\n",
    "            time.sleep(2)\n",
    "            #locating followers of user\n",
    "            followers=driver.find_element(By.XPATH,'//ul[contains(@class,\"x78zum5\")]/li/a')\n",
    "            #replacing ',' with '' and converted into int\n",
    "            dct[i] = int(followers.get_attribute('title').replace(',' ,''))\n",
    "        #top 5 most followed user\n",
    "        count = 0\n",
    "        res = OrderedDict()\n",
    "        for i in sorted(dct, key=dct.get, reverse=True):\n",
    "            res[i] = dct[i]\n",
    "            count += 1\n",
    "            if(count >= 5) : \n",
    "                break\n",
    "                \n",
    "        return res\n",
    "    except TimeoutException :\n",
    "        print (\"Something went wrong! Try Again\")"
   ]
  },
  {
   "cell_type": "code",
   "execution_count": 59,
   "id": "cb48f50c",
   "metadata": {},
   "outputs": [],
   "source": [
    "top_handles = top_5_handles(handles_list)"
   ]
  },
  {
   "cell_type": "code",
   "execution_count": 132,
   "id": "ecab26fe",
   "metadata": {},
   "outputs": [
    {
     "name": "stdout",
     "output_type": "stream",
     "text": [
      "Top 5 instagram handles which have the highest number of followers :\n",
      "foodnetwork -> 10660374\n",
      "foodinsider -> 2179026\n",
      "yourfoodlab -> 1427415\n",
      "dilsefoodie -> 630688\n",
      "foodtalkindia -> 302538\n"
     ]
    }
   ],
   "source": [
    "print('Top 5 instagram handles which have the highest number of followers :')\n",
    "for uname in top_handles:\n",
    "    print(uname,'->',top_handles[uname])\n",
    "    \n"
   ]
  },
  {
   "cell_type": "markdown",
   "id": "5b634668",
   "metadata": {},
   "source": [
    "2.Now Find the number of posts these handles have done in the previous 3 days."
   ]
  },
  {
   "cell_type": "code",
   "execution_count": 172,
   "id": "de41a5fd",
   "metadata": {},
   "outputs": [],
   "source": [
    "#this function returns number of post posted by user in n days\n",
    "def count_of_post(day):\n",
    "    try :\n",
    "        #locating first post\n",
    "        post = wait.until(EC.presence_of_element_located((By.CLASS_NAME,'_aagw')))\n",
    "        post.click()\n",
    "        \n",
    "        count = 0 \n",
    "        while True :\n",
    "            #getting date of the the post\n",
    "            temp = wait.until(EC.presence_of_element_located((By.CLASS_NAME,'_aaqe')))\n",
    "            #getting date in string format\n",
    "            date_string = temp.get_attribute('datetime')\n",
    "            #converting into date format\n",
    "            date = datetime.strptime(date_string[0:19], \"%Y-%m-%dT%H:%M:%S\")\n",
    "            #taking differnce between today's date and post posted date\n",
    "            if (datetime.now() - date).days > day :\n",
    "                break\n",
    "            else :\n",
    "                count += 1\n",
    "            #locating next button\n",
    "            next_but = wait.until(EC.presence_of_element_located((By.CLASS_NAME,'_abl-')))\n",
    "            next_but.click()\n",
    "        #closing the post\n",
    "        close=driver.find_element(By.CLASS_NAME,\"x160vmok\")\n",
    "        close.click()\n",
    "        return count\n",
    "    \n",
    "    except TimeoutException :\n",
    "        print (\"Something went wrong! Try Again\")"
   ]
  },
  {
   "cell_type": "code",
   "execution_count": 185,
   "id": "8002a018",
   "metadata": {},
   "outputs": [],
   "source": [
    "total_post_count = {}\n",
    "for i in top_handles :\n",
    "    search_open_profile(i)\n",
    "    time.sleep(2)\n",
    "    count = count_of_post(3)\n",
    "    total_post_count[i] = count"
   ]
  },
  {
   "cell_type": "code",
   "execution_count": 186,
   "id": "0920f8fa",
   "metadata": {},
   "outputs": [
    {
     "name": "stdout",
     "output_type": "stream",
     "text": [
      "Number of posts these handles have done in the previous 3 days : -\n",
      "foodnetwork 27\n",
      "foodinsider 5\n",
      "yourfoodlab 3\n",
      "dilsefoodie 5\n",
      "foodtalkindia 5\n"
     ]
    }
   ],
   "source": [
    "print('Number of posts these handles have done in the previous 3 days : -')\n",
    "for i in total_post_count:\n",
    "    print(i,total_post_count[i])"
   ]
  },
  {
   "cell_type": "markdown",
   "id": "8df1b2b8",
   "metadata": {},
   "source": [
    "# 3.Depict this information using a suitable graph."
   ]
  },
  {
   "cell_type": "code",
   "execution_count": 195,
   "id": "801c428b",
   "metadata": {},
   "outputs": [
    {
     "data": {
      "image/png": "[encoded data removed]",
      "text/plain": [
       "<Figure size 640x480 with 1 Axes>"
      ]
     },
     "metadata": {},
     "output_type": "display_data"
    }
   ],
   "source": [
    "# using total_post_count to get username and number of post\n",
    "x = total_post_count.keys()\n",
    "y = total_post_count.values()\n",
    "plt.bar(x,y,color='g',alpha=0.6)\n",
    "plt.ylabel(\"Number of posts in the previous 3 days\",size=10)\n",
    "plt.xlabel(\"Username\",size=10)\n",
    "plt.title('Most Followed user vs Number of recent posts ',fontsize=20, color='green',alpha=0.8)\n",
    "plt.grid()\n",
    "plt.show()"
   ]
  },
  {
   "cell_type": "markdown",
   "id": "0646fb44",
   "metadata": {},
   "source": [
    "# Problem 2 : List of hashtags"
   ]
  },
  {
   "cell_type": "markdown",
   "id": "92a7faba",
   "metadata": {},
   "source": [
    "Your friend also needs a list of hashtags that he should use in his posts. <br>\n",
    "1.Open the 5 handles you obtained in the last question, and scrape the content of the first 10 posts of each handle.<br>\n",
    "2.Prepare a list of all words used in all the scraped posts and calculate the frequency of each word.<br>\n",
    "3.Create a csv file with two columns : the word and its frequency <br>\n",
    "4.Now, find the hashtags that were most popular among these bloggers <br>\n",
    "5.Plot a Pie Chart of the top 5 hashtags obtained and the number of times they were used by these bloggers in the scraped posts.<br>"
   ]
  },
  {
   "cell_type": "code",
   "execution_count": 184,
   "id": "8b27ffa0",
   "metadata": {},
   "outputs": [
    {
     "name": "stdout",
     "output_type": "stream",
     "text": [
      "{'foodnetwork': 27, 'foodinsider': 5, 'yourfoodlab': 3, 'dilsefoodie': 5, 'foodtalkindia': 5}\n"
     ]
    }
   ],
   "source": [
    "\n",
    "total_post_count={}\n",
    "for i in l1:\n",
    "    if i in total_post_count:\n",
    "        total_post_count[i]+=1\n",
    "    else:\n",
    "        total_post_count[i]=1\n",
    "print(total_post_count)\n"
   ]
  },
  {
   "cell_type": "code",
   "execution_count": 13,
   "id": "9d30e08f",
   "metadata": {},
   "outputs": [],
   "source": [
    "def extract_content(lst):\n",
    "    try :\n",
    "        hashtags_list = []\n",
    "        for user in lst:\n",
    "            #This fuction will search a user and open that profile\n",
    "            search_open_profile(user)\n",
    "            time.sleep(2)\n",
    "            #just for scrolling to getting post\n",
    "            driver.execute_script('window.scrollTo(0, 3000);')\n",
    "            time.sleep(2)\n",
    "            driver.execute_script('window.scrollTo(0, -3000);')\n",
    "            time.sleep(2)\n",
    "            #locating the post of the user\n",
    "            posts = driver.find_elements('class name','_aagw')\n",
    "            for post in posts[:10]:\n",
    "                post.click()\n",
    "                time.sleep(2)\n",
    "                #locating all hashtag used in this post\n",
    "                hashtags=driver.find_elements(By.XPATH,'//h1[contains(@class,\"_aacl\")]/a')\n",
    "                for hashtag in hashtags:\n",
    "                    #appending in list\n",
    "                    hashtags_list.append(hashtag.text)  \n",
    "                \n",
    "                #locating close button and clicking on it\n",
    "                close=driver.find_element('class name',\"x160vmok\")\n",
    "                time.sleep(1)\n",
    "                close.click()\n",
    "        return hashtags_list\n",
    "    \n",
    "    except TimeoutException :\n",
    "        print (\"Something went wrong! Try Again\")\n",
    "        "
   ]
  },
  {
   "cell_type": "code",
   "execution_count": 18,
   "id": "e943252e",
   "metadata": {},
   "outputs": [],
   "source": [
    "handles = list(total_post_count.keys())\n",
    "hashtags = extract_content(handles)\n"
   ]
  },
  {
   "cell_type": "code",
   "execution_count": 19,
   "id": "9d0fdf8f",
   "metadata": {},
   "outputs": [
    {
     "name": "stdout",
     "output_type": "stream",
     "text": [
      "['#VivsTips', '#DeliciousMissBrown', '#WhatADissapointment', '#FreakshowCakes', '#WorstCooks', '#WorstCooks', '#WorstCooks', '#WorstCooks', '#HalloweenBakingChampionship', '#SouthernKitchen', '#arizona', '#statefair', '#corndog', '#chili', '#cincinnati', '#midwest', '#kfc', '#kfclocker', '#kfcjapan', '#ukranian', '#newyorkcity', '#food', '#dumplings', '#amazon', '#amazonprimeday', '#primeday', '#primeday2020', '#kitchendeals', '#friedchicken', '#atlanta', '#chicken', '#thaifriedchicken', '#friedchicken', '#thaifood', '#losangeles', '#recipes', '#pulao', '#foodporn', '#brightwin', '#foodiesofinstagram', '#foodlover', '#rice', '#recipeoftheday', '#mumbaifoodie', '#sanjyotkeer', '#mumbaistreetfood', '#mumbaifood', '#recipe', '#foodie', '#foodstagram', '#dosa', '#dosalover', '#indianclicks', '#indiancuisine', '#streetfood', '#recipe', '#foodie', '#indiancuisine', '#streetfood', '#foodporn', '#comfortfood', '#streetphotography', '#sanjyotkeer', '#food', '#navratri', '#noonionnogarlic', '#foodie', '#recipes', '#recipeoftheday', '#foodporn', '#food', '#yourfoodlab', '#sanjyotkeer', '#streetfood', '#comfortfood', '#frankie', '#recipeoftheday', '#frankie', '#rolls', '#foodporn', '#streetstyle', '#streetfood', '#comfortfood', '#yummyfood', '#noodles', '#noodle', '#sanjyotkeer', '#foodstagram', '#recipe', '#foodie', '#mumbaifoodie', '#mumbaistreetfood', '#comfortfood', '#sanjyotkeer', '#streetfood', '#foodporn', '#yourfoodlab', '#mumbaifood', '#recipeoftheday', '#recipe', '#reelsinstagram', '#streetfood', '#paneer', '#pizza', '#pizzalover', '#pizzapizzapizza', '#food', '#pizzatime', '#paneer', '#paneerlove', '#sanjyot', '#recipes', '#foodie', '#cake', '#cakesofinstagram', '#foodporn', '#sanjyotkeer', '#comfortfood', '#recipe', '#foodie', '#foodiesofinstagram', '#cakestagram', '#cakedecorating', '#cakecakecake', '#cakedesigner', '#almond', '#almondcake', '#teatimesnacks', '#tealovers', '#sanjyotkeer', '#mumbai_ig', '#recipe', '#foodiesofinstagram', '#streetfood', '#comfortfood', '#foodporn', '#bhuna', '#sanjyotkeer', '#dilsefoodie', '#dugdugdug', '#dilsefoodie', '#Dad', '#Love', '#dilsefoodie', '#dilsefoodie', '#OreoReciPic', '#Oreo', '#ContestAlert', '#RecipeContest', '#Contestgram', '#Contestgiveaway', '#Competition', '#Participate', '#India', '#dilsefoodie', '#dad', '#love', '#forever', '#dilsefoodie', '#dilsefoodie', '#dilsefoodie', '#dilsefoodie', '#superwoman', '#GiveawayAlert', '#LesRochesConnect', '#LesRochesWayOfLife', '#GlionConnect', '#GlionSpirit', '#LesRochesConnect', '#LesRochesWayOfLife', '#GlionConnect', '#GlionSpirit', '#LesRochesConnect', '#LesRochesWayOfLife', '#GlionConnect', '#GlionSpirit', '#ContestAlert', '#NewInTown', '#WorldEggDay']\n"
     ]
    }
   ],
   "source": [
    "print(hashtags)\n"
   ]
  },
  {
   "cell_type": "markdown",
   "id": "7e47ea5d",
   "metadata": {},
   "source": [
    " # 2.Prepare a list of all words used in all the scraped posts and calculate the frequency of each word"
   ]
  },
  {
   "cell_type": "code",
   "execution_count": 23,
   "id": "8e0499af",
   "metadata": {},
   "outputs": [
    {
     "name": "stdout",
     "output_type": "stream",
     "text": [
      "#dilsefoodie 9\n",
      "#sanjyotkeer 8\n",
      "#foodporn 7\n",
      "#streetfood 7\n",
      "#recipe 6\n",
      "#foodie 6\n",
      "#comfortfood 6\n",
      "#WorstCooks 4\n",
      "#food 4\n",
      "#recipeoftheday 4\n",
      "#recipes 3\n",
      "#foodiesofinstagram 3\n",
      "#LesRochesConnect 3\n",
      "#LesRochesWayOfLife 3\n",
      "#GlionConnect 3\n",
      "#GlionSpirit 3\n",
      "#friedchicken 2\n",
      "#mumbaifoodie 2\n",
      "#mumbaistreetfood 2\n",
      "#mumbaifood 2\n",
      "#foodstagram 2\n",
      "#indiancuisine 2\n",
      "#yourfoodlab 2\n",
      "#frankie 2\n",
      "#paneer 2\n",
      "#ContestAlert 2\n",
      "#VivsTips 1\n",
      "#DeliciousMissBrown 1\n",
      "#WhatADissapointment 1\n",
      "#FreakshowCakes 1\n",
      "#HalloweenBakingChampionship 1\n",
      "#SouthernKitchen 1\n",
      "#arizona 1\n",
      "#statefair 1\n",
      "#corndog 1\n",
      "#chili 1\n",
      "#cincinnati 1\n",
      "#midwest 1\n",
      "#kfc 1\n",
      "#kfclocker 1\n",
      "#kfcjapan 1\n",
      "#ukranian 1\n",
      "#newyorkcity 1\n",
      "#dumplings 1\n",
      "#amazon 1\n",
      "#amazonprimeday 1\n",
      "#primeday 1\n",
      "#primeday2020 1\n",
      "#kitchendeals 1\n",
      "#atlanta 1\n",
      "#chicken 1\n",
      "#thaifriedchicken 1\n",
      "#thaifood 1\n",
      "#losangeles 1\n",
      "#pulao 1\n",
      "#brightwin 1\n",
      "#foodlover 1\n",
      "#rice 1\n",
      "#dosa 1\n",
      "#dosalover 1\n",
      "#indianclicks 1\n",
      "#streetphotography 1\n",
      "#navratri 1\n",
      "#noonionnogarlic 1\n",
      "#rolls 1\n",
      "#streetstyle 1\n",
      "#yummyfood 1\n",
      "#noodles 1\n",
      "#noodle 1\n",
      "#reelsinstagram 1\n",
      "#pizza 1\n",
      "#pizzalover 1\n",
      "#pizzapizzapizza 1\n",
      "#pizzatime 1\n",
      "#paneerlove 1\n",
      "#sanjyot 1\n",
      "#cake 1\n",
      "#cakesofinstagram 1\n",
      "#cakestagram 1\n",
      "#cakedecorating 1\n",
      "#cakecakecake 1\n",
      "#cakedesigner 1\n",
      "#almond 1\n",
      "#almondcake 1\n",
      "#teatimesnacks 1\n",
      "#tealovers 1\n",
      "#mumbai_ig 1\n",
      "#bhuna 1\n",
      "#dugdugdug 1\n",
      "#Dad 1\n",
      "#Love 1\n",
      "#OreoReciPic 1\n",
      "#Oreo 1\n",
      "#RecipeContest 1\n",
      "#Contestgram 1\n",
      "#Contestgiveaway 1\n",
      "#Competition 1\n",
      "#Participate 1\n",
      "#India 1\n",
      "#dad 1\n",
      "#love 1\n",
      "#forever 1\n",
      "#superwoman 1\n",
      "#GiveawayAlert 1\n",
      "#NewInTown 1\n",
      "#WorldEggDay 1\n"
     ]
    }
   ],
   "source": [
    "dct = {}\n",
    "words_list = []\n",
    "for word in hashtags:\n",
    "    dct[word] = dct.get(word,0) + 1\n",
    "    \n",
    "for i in sorted(dct, key=dct.get, reverse=True):\n",
    "    words_list.append([i,dct[i]])\n",
    "    print(i,dct[i])"
   ]
  },
  {
   "cell_type": "markdown",
   "id": "5b92a93e",
   "metadata": {},
   "source": [
    " # 3.Create a csv file with two columns : the word and its frequency"
   ]
  },
  {
   "cell_type": "code",
   "execution_count": 24,
   "id": "7130871a",
   "metadata": {},
   "outputs": [
    {
     "data": {
      "text/html": [
       "<div>\n",
       "<style scoped>\n",
       "    .dataframe tbody tr th:only-of-type {\n",
       "        vertical-align: middle;\n",
       "    }\n",
       "\n",
       "    .dataframe tbody tr th {\n",
       "        vertical-align: top;\n",
       "    }\n",
       "\n",
       "    .dataframe thead th {\n",
       "        text-align: right;\n",
       "    }\n",
       "</style>\n",
       "<table border=\"1\" class=\"dataframe\">\n",
       "  <thead>\n",
       "    <tr style=\"text-align: right;\">\n",
       "      <th></th>\n",
       "      <th>Words</th>\n",
       "      <th>Frequency</th>\n",
       "    </tr>\n",
       "  </thead>\n",
       "  <tbody>\n",
       "    <tr>\n",
       "      <th>0</th>\n",
       "      <td>#dilsefoodie</td>\n",
       "      <td>9</td>\n",
       "    </tr>\n",
       "    <tr>\n",
       "      <th>1</th>\n",
       "      <td>#sanjyotkeer</td>\n",
       "      <td>8</td>\n",
       "    </tr>\n",
       "    <tr>\n",
       "      <th>2</th>\n",
       "      <td>#foodporn</td>\n",
       "      <td>7</td>\n",
       "    </tr>\n",
       "    <tr>\n",
       "      <th>3</th>\n",
       "      <td>#streetfood</td>\n",
       "      <td>7</td>\n",
       "    </tr>\n",
       "    <tr>\n",
       "      <th>4</th>\n",
       "      <td>#recipe</td>\n",
       "      <td>6</td>\n",
       "    </tr>\n",
       "    <tr>\n",
       "      <th>5</th>\n",
       "      <td>#foodie</td>\n",
       "      <td>6</td>\n",
       "    </tr>\n",
       "    <tr>\n",
       "      <th>6</th>\n",
       "      <td>#comfortfood</td>\n",
       "      <td>6</td>\n",
       "    </tr>\n",
       "    <tr>\n",
       "      <th>7</th>\n",
       "      <td>#WorstCooks</td>\n",
       "      <td>4</td>\n",
       "    </tr>\n",
       "    <tr>\n",
       "      <th>8</th>\n",
       "      <td>#food</td>\n",
       "      <td>4</td>\n",
       "    </tr>\n",
       "    <tr>\n",
       "      <th>9</th>\n",
       "      <td>#recipeoftheday</td>\n",
       "      <td>4</td>\n",
       "    </tr>\n",
       "  </tbody>\n",
       "</table>\n",
       "</div>"
      ],
      "text/plain": [
       "             Words  Frequency\n",
       "0     #dilsefoodie          9\n",
       "1     #sanjyotkeer          8\n",
       "2        #foodporn          7\n",
       "3      #streetfood          7\n",
       "4          #recipe          6\n",
       "5          #foodie          6\n",
       "6     #comfortfood          6\n",
       "7      #WorstCooks          4\n",
       "8            #food          4\n",
       "9  #recipeoftheday          4"
      ]
     },
     "execution_count": 24,
     "metadata": {},
     "output_type": "execute_result"
    }
   ],
   "source": [
    "df = pd.DataFrame(words_list,columns=['Words','Frequency'])\n",
    "#using .to_csv pandas function to convert dataframe to csv\n",
    "df.to_csv('words_frequency.csv',index=False)\n",
    "df.head(10)"
   ]
  },
  {
   "cell_type": "markdown",
   "id": "ab9e7093",
   "metadata": {},
   "source": [
    " # 4.Now, find the hashtags that were most popular among these bloggers"
   ]
  },
  {
   "cell_type": "code",
   "execution_count": 25,
   "id": "e0106cca",
   "metadata": {},
   "outputs": [
    {
     "name": "stdout",
     "output_type": "stream",
     "text": [
      "#dilsefoodie\n"
     ]
    }
   ],
   "source": [
    "print(words_list[0][0])"
   ]
  },
  {
   "cell_type": "markdown",
   "id": "40275c07",
   "metadata": {},
   "source": [
    "# 5.Plot a Pie Chart of the top 5 hashtags obtained and the number of times they were used by these bloggers in the scraped posts."
   ]
  },
  {
   "cell_type": "code",
   "execution_count": 26,
   "id": "6c16ee0d",
   "metadata": {},
   "outputs": [
    {
     "data": {
      "image/png": "[encoded data removed]",
      "text/plain": [
       "<Figure size 1200x600 with 1 Axes>"
      ]
     },
     "metadata": {},
     "output_type": "display_data"
    }
   ],
   "source": [
    "#using answer of problem 2.2\n",
    "hashtag_name = [words_list[0][0],words_list[1][0],words_list[2][0],words_list[3][0],words_list[4][0]]\n",
    "count = [words_list[0][1],words_list[1][1],words_list[2][1],words_list[3][1],words_list[4][1]]\n",
    "plt.figure(figsize=(12,6))\n",
    "plt.pie(count,labels=hashtag_name,autopct='%0.2f%%',radius=1,counterclock=False,startangle=110)\n",
    "splt.show()"
   ]
  },
  {
   "cell_type": "markdown",
   "id": "06416689",
   "metadata": {},
   "source": [
    "# Problem 3 : Followers : Likes ratio"
   ]
  },
  {
   "cell_type": "markdown",
   "id": "6340f479",
   "metadata": {},
   "source": [
    "You need to also calculate average followers : likes ratio for the obtained handles. Followers : Likes ratio is calculated as follows:<br>\n",
    "1.Find out the likes of the top 10 posts of the 5 handles obtained earlier.<br>\n",
    "2.Calculate the average likes for a handle.<br>\n",
    "3.Divide the average likes obtained from the number of followers of the handle to get the average followers:like ratio of each handle.<br>\n",
    "4.Create a bar graph to depict the above obtained information.<br>"
   ]
  },
  {
   "cell_type": "markdown",
   "id": "72207d61",
   "metadata": {},
   "source": [
    "# 1.Find out the likes of the top 10 posts of the 5 handles obtained earlier."
   ]
  },
  {
   "cell_type": "code",
   "execution_count": 14,
   "id": "526b33c8",
   "metadata": {},
   "outputs": [],
   "source": [
    "#This function returns list of likes of 10 post of a user\n",
    "def get_likes(user):\n",
    "    try :\n",
    "            likes = []\n",
    "            #This fuction will search a user and open that profile\n",
    "            search_open_profile(user)\n",
    "            time.sleep(2)\n",
    "            #just for scrolling\n",
    "            driver.execute_script('window.scrollTo(0, 3000);')\n",
    "            time.sleep(2)\n",
    "            driver.execute_script('window.scrollTo(0, -3000);')\n",
    "            time.sleep(2)\n",
    "            #locating the post of the user\n",
    "            posts = driver.find_elements('class name','_aagw')\n",
    "            for post in posts[:10]:\n",
    "                post.click()\n",
    "                time.sleep(2)\n",
    "                try : \n",
    "                    #for getting like on video we need to first click on view then only we can like\n",
    "                    views = wait.until(EC.presence_of_element_located((By.CLASS_NAME,'_aagw')))\n",
    "                    views.click()\n",
    "                    time.sleep(1)\n",
    "                    \n",
    "                    #locating like and clicking on it\n",
    "                    like = wait.until(EC.presence_of_element_located((By.CLASS_NAME,'x1lliihq')))\n",
    "                    no_of_likes = (like.text).replace(',' , '')\n",
    "                    likes.append(int(no_of_likes))\n",
    "                    time.sleep(1)\n",
    "                    #just clicking one body to get original post back\n",
    "                    back=wait.until(EC.presence_of_element_located((By.CLASS_NAME,'_abl-')))\n",
    "                    back.click()\n",
    "                #if the post is image then this part will execute \n",
    "                except TimeoutException :\n",
    "                    \n",
    "                    like =wait.until(EC.presence_of_element_located((By.CLASS_NAME,'x1lliihq')))\n",
    "                    no_of_likes = (like.text).replace(',' , '')\n",
    "                    likes.append(int(no_of_likes))\n",
    "                    time.sleep(1)\n",
    "                #locating close button and clicking on it\n",
    "                close=driver.find_element('class name',\"x160vmok\")\n",
    "                time.sleep(1)\n",
    "                close.click()\n",
    "                                \n",
    "\n",
    "                \n",
    "            return likes\n",
    "    \n",
    "    except TimeoutException :\n",
    "        print (\"Something went wrong! Try Again\")\n",
    "        \n",
    "    "
   ]
  },
  {
   "cell_type": "code",
   "execution_count": 44,
   "id": "00bf16cf",
   "metadata": {},
   "outputs": [],
   "source": [
    "#dct will store username with list of likes\n",
    "dct = {}\n",
    "for user in handles : \n",
    "    likes = get_likes(user)\n",
    "    dct[user] = likes\n",
    "    print('Number of likes of the top 10 posts of',user,':')\n",
    "    for i in likes :\n",
    "        print(i,'Likes')\n",
    "    print()"
   ]
  },
  {
   "cell_type": "markdown",
   "id": "6bce857d",
   "metadata": {},
   "source": [
    "Number of likes of the top 10 posts of foodnetwork :<br>\n",
    "831 Likes  <br>\n",
    "12235 Likes <br>\n",
    "23784 Likes <br>\n",
    "26151 Likes <br>\n",
    "34927 Likes <br>\n",
    "79026 Likes <br>\n",
    "9103 Likes <br>\n",
    "22217 Likes <br>\n",
    "7951 Likes <br>\n",
    "30405 Likes <br>\n",
    "\n",
    "Number of likes of the top 10 posts of foodinsider : <br>\n",
    "12529 Likes <br>\n",
    "12284 Likes <br>\n",
    "5130 Likes <br>\n",
    "9746 Likes<br>\n",
    "5597 Likes<br>\n",
    "9250 Likes<br>\n",
    "1395 Likes<br>\n",
    "8525 Likes<br>\n",
    "39934 Likes<br>\n",
    "14760 Likes<br>\n",
    "\n",
    "Number of likes of the top 10 posts of yourfoodlab :<br>\n",
    "15800 Likes<br>\n",
    "40727 Likes<br>\n",
    "24199 Likes<br>\n",
    "17368 Likes<br>\n",
    "21351 Likes<br>\n",
    "32545 Likes<br>\n",
    "21447 Likes<br>\n",
    "24166 Likes<br>\n",
    "19154 Likes<br>\n",
    "35241 Likes<br>\n",
    "\n",
    "Number of likes of the top 10 posts of dilsefoodie : <br>\n",
    "7187 Likes <br>\n",
    "24663 Likes <br>\n",
    "4868 Likes <br>\n",
    "14497 Likes<br>\n",
    "7696 Likes <br>\n",
    "12616 Likes<br>\n",
    "9900 Likes<br>\n",
    "10937 Likes<br>\n",
    "13709 Likes<br>\n",
    "15620 Likes<br>\n",
    "\n",
    "Number of likes of the top 10 posts of foodtalkindia :<br>\n",
    "349 Likes<br>\n",
    "241 Likes<br>\n",
    "763 Likes<br>\n",
    "667 Likes<br>\n",
    "497 Likes<br>\n",
    "187 Likes<br>\n",
    "396 Likes<br>\n",
    "661 Likes<br>\n",
    "279 Likes<br>\n",
    "1111 Likes\n"
   ]
  },
  {
   "cell_type": "markdown",
   "id": "d7f3f808",
   "metadata": {},
   "source": [
    "# 2.Calculate the average likes for a handle."
   ]
  },
  {
   "cell_type": "code",
   "execution_count": 46,
   "id": "7cd28a21",
   "metadata": {},
   "outputs": [],
   "source": [
    "#This function will return a dictionary of {'username':average like}\n",
    "def get_avg_likes(d):\n",
    "    avg_likes = {}\n",
    "    for key,val in d.items():\n",
    "            avg = sum(val) // 10\n",
    "            avg_likes[key] = avg\n",
    "    return avg_likes"
   ]
  },
  {
   "cell_type": "code",
   "execution_count": 48,
   "id": "f111d8a7",
   "metadata": {},
   "outputs": [
    {
     "name": "stdout",
     "output_type": "stream",
     "text": [
      "Average likes for each handle are :\n",
      "foodnetwork : 32050\n",
      "foodinsider : 16875\n",
      "yourfoodlab : 24599\n",
      "dilsefoodie : 14179\n",
      "foodtalkindia : 10000\n"
     ]
    }
   ],
   "source": [
    "avg_likes = get_avg_likes(dct)\n",
    "\n",
    "print('Average likes for each handle are :')\n",
    "for user,likes in avg_likes.items():\n",
    "    print(user, ':', likes)"
   ]
  },
  {
   "cell_type": "markdown",
   "id": "0f638d15",
   "metadata": {},
   "source": [
    "# 3.Divide the average likes obtained from the number of followers of the handle to get the average followers:like ratio of each handle"
   ]
  },
  {
   "cell_type": "code",
   "execution_count": 15,
   "id": "c153690e",
   "metadata": {},
   "outputs": [],
   "source": [
    "#This function will return dictionary of {'username':avg followers-like ratio}\n",
    "def getavg_foll_like_ratio(top_handles,avg_like,users):\n",
    "    foll_like = {}\n",
    "    for i in range(5) :\n",
    "        foll_like[users[i]] = top_handles[users[i]]//avg_like[users[i]]\n",
    "    return foll_like"
   ]
  },
  {
   "cell_type": "code",
   "execution_count": 51,
   "id": "236ddb91",
   "metadata": {},
   "outputs": [
    {
     "name": "stdout",
     "output_type": "stream",
     "text": [
      "Average followers:like ratio of each handle :\n",
      "foodnetwork : 432\n",
      "foodinsider : 182\n",
      "yourfoodlab : 56\n",
      "dilsefoodie : 51\n",
      "foodtalkindia : 587\n"
     ]
    }
   ],
   "source": [
    "#here I am using the answer of problem 1.1 which contains a dictionary of {'username':followers} ie top_handles\n",
    "#extracing username from top_handles\n",
    "top_handles_names = list(top_handles.keys())\n",
    "#now calling function getavg_foll_like_ratio(top_handles,avg_like,users) \n",
    "avg_fol_like_ratio = getavg_foll_like_ratio(top_handles, avg_likes, top_handles_names)\n",
    "print('Average followers:like ratio of each handle :')\n",
    "for user,ratio in avg_fol_like_ratio.items():\n",
    "    print(user, ':', ratio)"
   ]
  },
  {
   "cell_type": "markdown",
   "id": "472f1125",
   "metadata": {},
   "source": [
    "# 4.Create a bar graph to depict the above obtained information."
   ]
  },
  {
   "cell_type": "code",
   "execution_count": 54,
   "id": "b5392e3f",
   "metadata": {},
   "outputs": [
    {
     "data": {
      "image/png": "[encoded data removed]",
      "text/plain": [
       "<Figure size 640x480 with 1 Axes>"
      ]
     },
     "metadata": {},
     "output_type": "display_data"
    }
   ],
   "source": [
    "#Plotting Bar Graph for average likes of each handle\n",
    "#for this I will use answer of problem 3.2 \n",
    "username = list(avg_likes.keys())\n",
    "avg_like = list(avg_likes.values())\n",
    "plt.bar(username,avg_like,color='g',alpha=0.6)\n",
    "plt.xticks(rotation=40)\n",
    "plt.ylabel(\"Average Likes\",size=15)\n",
    "plt.xlabel(\"Handle's Name\",size=15)\n",
    "plt.title('Average like for each handle ',fontsize=20, color='green',alpha=0.8)\n",
    "plt.grid()\n",
    "plt.show()"
   ]
  },
  {
   "cell_type": "markdown",
   "id": "57fd097d",
   "metadata": {},
   "source": [
    "# Plotting Bar Graph for average followers:like ratio of each handle"
   ]
  },
  {
   "cell_type": "code",
   "execution_count": 58,
   "id": "9d8eebe1",
   "metadata": {},
   "outputs": [
    {
     "data": {
      "image/png": "[encoded data removed]",
      "text/plain": [
       "<Figure size 640x480 with 1 Axes>"
      ]
     },
     "metadata": {},
     "output_type": "display_data"
    }
   ],
   "source": [
    "#For this I will use answer of problem 3.3\n",
    "username = list(avg_fol_like_ratio.keys())\n",
    "avg_like = list(avg_fol_like_ratio.values())\n",
    "\n",
    "plt.bar(username,avg_like,color='Indigo',alpha=0.6)\n",
    "plt.xticks(rotation=40)\n",
    "plt.ylabel(\"Average Followers:Like Ratio\",size=12)\n",
    "plt.xlabel(\"Handle's Name\",size=12)\n",
    "plt.title('Average Followers:Like Ratio of Each Handle ',fontsize=20, color='Indigo',alpha=0.8)\n",
    "plt.grid()\n",
    "plt.show()"
   ]
  },
  {
   "cell_type": "code",
   "execution_count": null,
   "id": "9c81b38b",
   "metadata": {},
   "outputs": [],
   "source": []
  }
 ],
 "metadata": {
  "kernelspec": {
   "display_name": "Python 3 (ipykernel)",
   "language": "python",
   "name": "python3"
  },
  "language_info": {
   "codemirror_mode": {
    "name": "ipython",
    "version": 3
   },
   "file_extension": ".py",
   "mimetype": "text/x-python",
   "name": "python",
   "nbconvert_exporter": "python",
   "pygments_lexer": "ipython3",
   "version": "3.11.3"
  }
 },
 "nbformat": 4,
 "nbformat_minor": 5
}
